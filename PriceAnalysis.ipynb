{
 "cells": [
  {
   "cell_type": "markdown",
   "metadata": {},
   "source": [
    "# Devender Dayal"
   ]
  },
  {
   "cell_type": "markdown",
   "metadata": {},
   "source": [
    "Hello everyone! This will be an analysis on the following [datasets](https://www.kaggle.com/wsj/college-salaries) to predict salary information and view salary implications based off of what major students decide to choose. The data that was provided was found on Kaggle and was created by The Wall Street Journal. This data was last updated April 29, 2017."
   ]
  },
  {
   "cell_type": "markdown",
   "metadata": {},
   "source": [
    "We are going to be discussing the following in today's presentation:\n",
    "- Techniques & Methods\n",
    "- Results\n",
    "- Predictive Model\n",
    "- Validation of Model"
   ]
  },
  {
   "cell_type": "markdown",
   "metadata": {},
   "source": [
    "## Data"
   ]
  },
  {
   "cell_type": "code",
   "execution_count": 449,
   "metadata": {},
   "outputs": [],
   "source": [
    "import pandas as pd\n",
    "import numpy as np\n",
    "import matplotlib.pyplot as plt\n",
    "import statistics "
   ]
  },
  {
   "cell_type": "code",
   "execution_count": 450,
   "metadata": {},
   "outputs": [],
   "source": [
    "salRegion = pd.read_csv('salaries-by-region.csv')\n",
    "salCollege = pd.read_csv('salaries-by-college-type.csv')\n",
    "payDegree = pd.read_csv('degrees-that-pay-back.csv')\n",
    "dupRegion = pd.read_csv('duplicateRegion.csv')\n",
    "dupType = pd.read_csv('dupType.csv')"
   ]
  },
  {
   "cell_type": "markdown",
   "metadata": {},
   "source": [
    "Before analyzing the data, let's preview all of our data to make sure we have the right datasets."
   ]
  },
  {
   "cell_type": "code",
   "execution_count": 451,
   "metadata": {},
   "outputs": [
    {
     "data": {
      "text/html": [
       "<div>\n",
       "<style scoped>\n",
       "    .dataframe tbody tr th:only-of-type {\n",
       "        vertical-align: middle;\n",
       "    }\n",
       "\n",
       "    .dataframe tbody tr th {\n",
       "        vertical-align: top;\n",
       "    }\n",
       "\n",
       "    .dataframe thead th {\n",
       "        text-align: right;\n",
       "    }\n",
       "</style>\n",
       "<table border=\"1\" class=\"dataframe\">\n",
       "  <thead>\n",
       "    <tr style=\"text-align: right;\">\n",
       "      <th></th>\n",
       "      <th>School Name</th>\n",
       "      <th>Region</th>\n",
       "      <th>Starting Median Salary</th>\n",
       "      <th>Mid-Career Median Salary</th>\n",
       "      <th>Mid-Career 10th Percentile Salary</th>\n",
       "      <th>Mid-Career 25th Percentile Salary</th>\n",
       "      <th>Mid-Career 75th Percentile Salary</th>\n",
       "      <th>Mid-Career 90th Percentile Salary</th>\n",
       "    </tr>\n",
       "  </thead>\n",
       "  <tbody>\n",
       "    <tr>\n",
       "      <th>0</th>\n",
       "      <td>Adelphi University</td>\n",
       "      <td>Northeastern</td>\n",
       "      <td>$40,600.00</td>\n",
       "      <td>$61,776.00</td>\n",
       "      <td>$44,200.00</td>\n",
       "      <td>$54,800.00</td>\n",
       "      <td>$114,000.00</td>\n",
       "      <td>$160,000.00</td>\n",
       "    </tr>\n",
       "    <tr>\n",
       "      <th>1</th>\n",
       "      <td>American University, Washington D.C.</td>\n",
       "      <td>Southern</td>\n",
       "      <td>$45,300.00</td>\n",
       "      <td>$107,144.00</td>\n",
       "      <td>$45,200.00</td>\n",
       "      <td>$62,400.00</td>\n",
       "      <td>$134,000.00</td>\n",
       "      <td>$169,000.00</td>\n",
       "    </tr>\n",
       "    <tr>\n",
       "      <th>2</th>\n",
       "      <td>Amherst College</td>\n",
       "      <td>Northeastern</td>\n",
       "      <td>$54,500.00</td>\n",
       "      <td>$117,700.00</td>\n",
       "      <td>NaN</td>\n",
       "      <td>$84,900.00</td>\n",
       "      <td>$162,000.00</td>\n",
       "      <td>NaN</td>\n",
       "    </tr>\n",
       "    <tr>\n",
       "      <th>3</th>\n",
       "      <td>Appalachian State University</td>\n",
       "      <td>Southern</td>\n",
       "      <td>$40,400.00</td>\n",
       "      <td>$62,881.00</td>\n",
       "      <td>$37,200.00</td>\n",
       "      <td>$50,400.00</td>\n",
       "      <td>$90,800.00</td>\n",
       "      <td>$115,000.00</td>\n",
       "    </tr>\n",
       "    <tr>\n",
       "      <th>4</th>\n",
       "      <td>Arizona State University (ASU)</td>\n",
       "      <td>Western</td>\n",
       "      <td>$47,400.00</td>\n",
       "      <td>$82,418.00</td>\n",
       "      <td>$44,600.00</td>\n",
       "      <td>$60,700.00</td>\n",
       "      <td>$114,000.00</td>\n",
       "      <td>$163,000.00</td>\n",
       "    </tr>\n",
       "  </tbody>\n",
       "</table>\n",
       "</div>"
      ],
      "text/plain": [
       "                            School Name        Region Starting Median Salary  \\\n",
       "0                    Adelphi University  Northeastern            $40,600.00    \n",
       "1  American University, Washington D.C.      Southern            $45,300.00    \n",
       "2                       Amherst College  Northeastern            $54,500.00    \n",
       "3          Appalachian State University      Southern            $40,400.00    \n",
       "4        Arizona State University (ASU)       Western            $47,400.00    \n",
       "\n",
       "  Mid-Career Median Salary Mid-Career 10th Percentile Salary  \\\n",
       "0              $61,776.00                        $44,200.00    \n",
       "1             $107,144.00                        $45,200.00    \n",
       "2             $117,700.00                                NaN   \n",
       "3              $62,881.00                        $37,200.00    \n",
       "4              $82,418.00                        $44,600.00    \n",
       "\n",
       "  Mid-Career 25th Percentile Salary Mid-Career 75th Percentile Salary  \\\n",
       "0                       $54,800.00                       $114,000.00    \n",
       "1                       $62,400.00                       $134,000.00    \n",
       "2                       $84,900.00                       $162,000.00    \n",
       "3                       $50,400.00                        $90,800.00    \n",
       "4                       $60,700.00                       $114,000.00    \n",
       "\n",
       "  Mid-Career 90th Percentile Salary  \n",
       "0                      $160,000.00   \n",
       "1                      $169,000.00   \n",
       "2                               NaN  \n",
       "3                      $115,000.00   \n",
       "4                      $163,000.00   "
      ]
     },
     "execution_count": 451,
     "metadata": {},
     "output_type": "execute_result"
    }
   ],
   "source": [
    "salRegion.head()"
   ]
  },
  {
   "cell_type": "code",
   "execution_count": 452,
   "metadata": {},
   "outputs": [
    {
     "data": {
      "text/html": [
       "<div>\n",
       "<style scoped>\n",
       "    .dataframe tbody tr th:only-of-type {\n",
       "        vertical-align: middle;\n",
       "    }\n",
       "\n",
       "    .dataframe tbody tr th {\n",
       "        vertical-align: top;\n",
       "    }\n",
       "\n",
       "    .dataframe thead th {\n",
       "        text-align: right;\n",
       "    }\n",
       "</style>\n",
       "<table border=\"1\" class=\"dataframe\">\n",
       "  <thead>\n",
       "    <tr style=\"text-align: right;\">\n",
       "      <th></th>\n",
       "      <th>School Name</th>\n",
       "      <th>School Type</th>\n",
       "      <th>Starting Median Salary</th>\n",
       "      <th>Mid-Career Median Salary</th>\n",
       "      <th>Mid-Career 10th Percentile Salary</th>\n",
       "      <th>Mid-Career 25th Percentile Salary</th>\n",
       "      <th>Mid-Career 75th Percentile Salary</th>\n",
       "      <th>Mid-Career 90th Percentile Salary</th>\n",
       "    </tr>\n",
       "  </thead>\n",
       "  <tbody>\n",
       "    <tr>\n",
       "      <th>0</th>\n",
       "      <td>Amherst College</td>\n",
       "      <td>Liberal Arts</td>\n",
       "      <td>$58,315.00</td>\n",
       "      <td>$107,000.00</td>\n",
       "      <td>NaN</td>\n",
       "      <td>$84,900.00</td>\n",
       "      <td>$162,000.00</td>\n",
       "      <td>NaN</td>\n",
       "    </tr>\n",
       "    <tr>\n",
       "      <th>1</th>\n",
       "      <td>Appalachian State University</td>\n",
       "      <td>State</td>\n",
       "      <td>$40,400.00</td>\n",
       "      <td>$69,100.00</td>\n",
       "      <td>$37,200.00</td>\n",
       "      <td>$50,400.00</td>\n",
       "      <td>$90,800.00</td>\n",
       "      <td>$115,000.00</td>\n",
       "    </tr>\n",
       "    <tr>\n",
       "      <th>2</th>\n",
       "      <td>Arizona State University (ASU)</td>\n",
       "      <td>Party</td>\n",
       "      <td>$37,920.00</td>\n",
       "      <td>$84,100.00</td>\n",
       "      <td>$44,600.00</td>\n",
       "      <td>$60,700.00</td>\n",
       "      <td>$114,000.00</td>\n",
       "      <td>$163,000.00</td>\n",
       "    </tr>\n",
       "    <tr>\n",
       "      <th>3</th>\n",
       "      <td>Arkansas State University (ASU)</td>\n",
       "      <td>State</td>\n",
       "      <td>$39,474.00</td>\n",
       "      <td>$63,300.00</td>\n",
       "      <td>$33,600.00</td>\n",
       "      <td>$45,300.00</td>\n",
       "      <td>$83,900.00</td>\n",
       "      <td>$118,000.00</td>\n",
       "    </tr>\n",
       "    <tr>\n",
       "      <th>4</th>\n",
       "      <td>Auburn University</td>\n",
       "      <td>State</td>\n",
       "      <td>$40,406.00</td>\n",
       "      <td>$84,700.00</td>\n",
       "      <td>$45,400.00</td>\n",
       "      <td>$62,700.00</td>\n",
       "      <td>$109,000.00</td>\n",
       "      <td>$145,000.00</td>\n",
       "    </tr>\n",
       "  </tbody>\n",
       "</table>\n",
       "</div>"
      ],
      "text/plain": [
       "                       School Name   School Type Starting Median Salary  \\\n",
       "0                  Amherst College  Liberal Arts            $58,315.00    \n",
       "1     Appalachian State University         State            $40,400.00    \n",
       "2   Arizona State University (ASU)         Party            $37,920.00    \n",
       "3  Arkansas State University (ASU)         State            $39,474.00    \n",
       "4                Auburn University         State            $40,406.00    \n",
       "\n",
       "  Mid-Career Median Salary Mid-Career 10th Percentile Salary  \\\n",
       "0             $107,000.00                                NaN   \n",
       "1              $69,100.00                        $37,200.00    \n",
       "2              $84,100.00                        $44,600.00    \n",
       "3              $63,300.00                        $33,600.00    \n",
       "4              $84,700.00                        $45,400.00    \n",
       "\n",
       "  Mid-Career 25th Percentile Salary Mid-Career 75th Percentile Salary  \\\n",
       "0                       $84,900.00                       $162,000.00    \n",
       "1                       $50,400.00                        $90,800.00    \n",
       "2                       $60,700.00                       $114,000.00    \n",
       "3                       $45,300.00                        $83,900.00    \n",
       "4                       $62,700.00                       $109,000.00    \n",
       "\n",
       "  Mid-Career 90th Percentile Salary  \n",
       "0                               NaN  \n",
       "1                      $115,000.00   \n",
       "2                      $163,000.00   \n",
       "3                      $118,000.00   \n",
       "4                      $145,000.00   "
      ]
     },
     "execution_count": 452,
     "metadata": {},
     "output_type": "execute_result"
    }
   ],
   "source": [
    "salCollege.head()"
   ]
  },
  {
   "cell_type": "code",
   "execution_count": 453,
   "metadata": {
    "scrolled": false
   },
   "outputs": [
    {
     "data": {
      "text/html": [
       "<div>\n",
       "<style scoped>\n",
       "    .dataframe tbody tr th:only-of-type {\n",
       "        vertical-align: middle;\n",
       "    }\n",
       "\n",
       "    .dataframe tbody tr th {\n",
       "        vertical-align: top;\n",
       "    }\n",
       "\n",
       "    .dataframe thead th {\n",
       "        text-align: right;\n",
       "    }\n",
       "</style>\n",
       "<table border=\"1\" class=\"dataframe\">\n",
       "  <thead>\n",
       "    <tr style=\"text-align: right;\">\n",
       "      <th></th>\n",
       "      <th>Undergraduate Major</th>\n",
       "      <th>Starting Median Salary</th>\n",
       "      <th>Mid-Career Median Salary</th>\n",
       "      <th>Percent change from Starting to Mid-Career Salary</th>\n",
       "      <th>Mid-Career 10th Percentile Salary</th>\n",
       "      <th>Mid-Career 25th Percentile Salary</th>\n",
       "      <th>Mid-Career 75th Percentile Salary</th>\n",
       "      <th>Mid-Career 90th Percentile Salary</th>\n",
       "    </tr>\n",
       "  </thead>\n",
       "  <tbody>\n",
       "    <tr>\n",
       "      <th>0</th>\n",
       "      <td>Accounting</td>\n",
       "      <td>$44,620.00</td>\n",
       "      <td>$77,100.00</td>\n",
       "      <td>72.8</td>\n",
       "      <td>$42,200.00</td>\n",
       "      <td>$56,100.00</td>\n",
       "      <td>$108,000.00</td>\n",
       "      <td>$152,000.00</td>\n",
       "    </tr>\n",
       "    <tr>\n",
       "      <th>1</th>\n",
       "      <td>Aerospace Engineering</td>\n",
       "      <td>$55,969.00</td>\n",
       "      <td>$101,000.00</td>\n",
       "      <td>80.5</td>\n",
       "      <td>$64,300.00</td>\n",
       "      <td>$82,100.00</td>\n",
       "      <td>$127,000.00</td>\n",
       "      <td>$161,000.00</td>\n",
       "    </tr>\n",
       "    <tr>\n",
       "      <th>2</th>\n",
       "      <td>Agriculture</td>\n",
       "      <td>$40,470.00</td>\n",
       "      <td>$71,900.00</td>\n",
       "      <td>77.7</td>\n",
       "      <td>$36,300.00</td>\n",
       "      <td>$52,100.00</td>\n",
       "      <td>$96,300.00</td>\n",
       "      <td>$150,000.00</td>\n",
       "    </tr>\n",
       "    <tr>\n",
       "      <th>3</th>\n",
       "      <td>Anthropology</td>\n",
       "      <td>$41,952.00</td>\n",
       "      <td>$61,500.00</td>\n",
       "      <td>46.6</td>\n",
       "      <td>$33,800.00</td>\n",
       "      <td>$45,500.00</td>\n",
       "      <td>$89,300.00</td>\n",
       "      <td>$138,000.00</td>\n",
       "    </tr>\n",
       "    <tr>\n",
       "      <th>4</th>\n",
       "      <td>Architecture</td>\n",
       "      <td>$45,344.00</td>\n",
       "      <td>$76,800.00</td>\n",
       "      <td>69.4</td>\n",
       "      <td>$50,600.00</td>\n",
       "      <td>$62,200.00</td>\n",
       "      <td>$97,000.00</td>\n",
       "      <td>$136,000.00</td>\n",
       "    </tr>\n",
       "  </tbody>\n",
       "</table>\n",
       "</div>"
      ],
      "text/plain": [
       "     Undergraduate Major Starting Median Salary Mid-Career Median Salary  \\\n",
       "0             Accounting            $44,620.00               $77,100.00    \n",
       "1  Aerospace Engineering            $55,969.00              $101,000.00    \n",
       "2            Agriculture            $40,470.00               $71,900.00    \n",
       "3           Anthropology            $41,952.00               $61,500.00    \n",
       "4           Architecture            $45,344.00               $76,800.00    \n",
       "\n",
       "   Percent change from Starting to Mid-Career Salary  \\\n",
       "0                                               72.8   \n",
       "1                                               80.5   \n",
       "2                                               77.7   \n",
       "3                                               46.6   \n",
       "4                                               69.4   \n",
       "\n",
       "  Mid-Career 10th Percentile Salary Mid-Career 25th Percentile Salary  \\\n",
       "0                       $42,200.00                        $56,100.00    \n",
       "1                       $64,300.00                        $82,100.00    \n",
       "2                       $36,300.00                        $52,100.00    \n",
       "3                       $33,800.00                        $45,500.00    \n",
       "4                       $50,600.00                        $62,200.00    \n",
       "\n",
       "  Mid-Career 75th Percentile Salary Mid-Career 90th Percentile Salary  \n",
       "0                      $108,000.00                       $152,000.00   \n",
       "1                      $127,000.00                       $161,000.00   \n",
       "2                       $96,300.00                       $150,000.00   \n",
       "3                       $89,300.00                       $138,000.00   \n",
       "4                       $97,000.00                       $136,000.00   "
      ]
     },
     "execution_count": 453,
     "metadata": {},
     "output_type": "execute_result"
    }
   ],
   "source": [
    "payDegree.dropna().head()"
   ]
  },
  {
   "cell_type": "markdown",
   "metadata": {},
   "source": [
    "As we can see from our datasets, not all of the data is completely clean. Before analyzing the data, we are going to clean it first."
   ]
  },
  {
   "cell_type": "code",
   "execution_count": 454,
   "metadata": {},
   "outputs": [
    {
     "data": {
      "text/html": [
       "<div>\n",
       "<style scoped>\n",
       "    .dataframe tbody tr th:only-of-type {\n",
       "        vertical-align: middle;\n",
       "    }\n",
       "\n",
       "    .dataframe tbody tr th {\n",
       "        vertical-align: top;\n",
       "    }\n",
       "\n",
       "    .dataframe thead th {\n",
       "        text-align: right;\n",
       "    }\n",
       "</style>\n",
       "<table border=\"1\" class=\"dataframe\">\n",
       "  <thead>\n",
       "    <tr style=\"text-align: right;\">\n",
       "      <th></th>\n",
       "      <th>School Name</th>\n",
       "      <th>School Type</th>\n",
       "      <th>Starting Median Salary</th>\n",
       "      <th>Mid-Career Median Salary</th>\n",
       "      <th>Mid-Career 10th Percentile Salary</th>\n",
       "      <th>Mid-Career 25th Percentile Salary</th>\n",
       "      <th>Mid-Career 75th Percentile Salary</th>\n",
       "      <th>Mid-Career 90th Percentile Salary</th>\n",
       "    </tr>\n",
       "  </thead>\n",
       "  <tbody>\n",
       "    <tr>\n",
       "      <th>0</th>\n",
       "      <td>Amherst College</td>\n",
       "      <td>Liberal Arts</td>\n",
       "      <td>58315.0</td>\n",
       "      <td>107000.0</td>\n",
       "      <td>NaN</td>\n",
       "      <td>84900.0</td>\n",
       "      <td>162000.0</td>\n",
       "      <td>NaN</td>\n",
       "    </tr>\n",
       "    <tr>\n",
       "      <th>1</th>\n",
       "      <td>Appalachian State University</td>\n",
       "      <td>State</td>\n",
       "      <td>40400.0</td>\n",
       "      <td>69100.0</td>\n",
       "      <td>37200.0</td>\n",
       "      <td>50400.0</td>\n",
       "      <td>90800.0</td>\n",
       "      <td>115000.0</td>\n",
       "    </tr>\n",
       "    <tr>\n",
       "      <th>2</th>\n",
       "      <td>Arizona State University (ASU)</td>\n",
       "      <td>Party</td>\n",
       "      <td>37920.0</td>\n",
       "      <td>84100.0</td>\n",
       "      <td>44600.0</td>\n",
       "      <td>60700.0</td>\n",
       "      <td>114000.0</td>\n",
       "      <td>163000.0</td>\n",
       "    </tr>\n",
       "    <tr>\n",
       "      <th>3</th>\n",
       "      <td>Arkansas State University (ASU)</td>\n",
       "      <td>State</td>\n",
       "      <td>39474.0</td>\n",
       "      <td>63300.0</td>\n",
       "      <td>33600.0</td>\n",
       "      <td>45300.0</td>\n",
       "      <td>83900.0</td>\n",
       "      <td>118000.0</td>\n",
       "    </tr>\n",
       "    <tr>\n",
       "      <th>4</th>\n",
       "      <td>Auburn University</td>\n",
       "      <td>State</td>\n",
       "      <td>40406.0</td>\n",
       "      <td>84700.0</td>\n",
       "      <td>45400.0</td>\n",
       "      <td>62700.0</td>\n",
       "      <td>109000.0</td>\n",
       "      <td>145000.0</td>\n",
       "    </tr>\n",
       "  </tbody>\n",
       "</table>\n",
       "</div>"
      ],
      "text/plain": [
       "                       School Name   School Type  Starting Median Salary  \\\n",
       "0                  Amherst College  Liberal Arts                 58315.0   \n",
       "1     Appalachian State University         State                 40400.0   \n",
       "2   Arizona State University (ASU)         Party                 37920.0   \n",
       "3  Arkansas State University (ASU)         State                 39474.0   \n",
       "4                Auburn University         State                 40406.0   \n",
       "\n",
       "   Mid-Career Median Salary  Mid-Career 10th Percentile Salary  \\\n",
       "0                  107000.0                                NaN   \n",
       "1                   69100.0                            37200.0   \n",
       "2                   84100.0                            44600.0   \n",
       "3                   63300.0                            33600.0   \n",
       "4                   84700.0                            45400.0   \n",
       "\n",
       "   Mid-Career 25th Percentile Salary  Mid-Career 75th Percentile Salary  \\\n",
       "0                            84900.0                           162000.0   \n",
       "1                            50400.0                            90800.0   \n",
       "2                            60700.0                           114000.0   \n",
       "3                            45300.0                            83900.0   \n",
       "4                            62700.0                           109000.0   \n",
       "\n",
       "   Mid-Career 90th Percentile Salary  \n",
       "0                                NaN  \n",
       "1                           115000.0  \n",
       "2                           163000.0  \n",
       "3                           118000.0  \n",
       "4                           145000.0  "
      ]
     },
     "execution_count": 454,
     "metadata": {},
     "output_type": "execute_result"
    }
   ],
   "source": [
    "salCollege = salCollege.replace({'\\$':''}, regex = True).replace({'\\,':''}, regex = True)\n",
    "salCollege = salCollege.astype({'Starting Median Salary': 'float', \n",
    "                               'Mid-Career Median Salary': 'float',\n",
    "                               'Mid-Career 10th Percentile Salary': 'float',\n",
    "                               'Mid-Career 25th Percentile Salary': 'float',\n",
    "                               'Mid-Career 75th Percentile Salary': 'float',\n",
    "                               'Mid-Career 90th Percentile Salary': 'float'})\n",
    "\n",
    "salRegion = salRegion.replace({'\\$':''}, regex = True).replace({'\\,':''}, regex = True)\n",
    "salRegion = salRegion.astype({'Starting Median Salary': 'float', \n",
    "                              'Mid-Career Median Salary': 'float',\n",
    "                              'Mid-Career 10th Percentile Salary': 'float',\n",
    "                              'Mid-Career 25th Percentile Salary': 'float',\n",
    "                              'Mid-Career 75th Percentile Salary': 'float',\n",
    "                              'Mid-Career 90th Percentile Salary': 'float'})\n",
    "\n",
    "dupRegion = dupRegion.replace({'\\$':''}, regex = True).replace({'\\,':''}, regex = True)\n",
    "dupRegion = dupRegion.astype({'Starting Median Salary': 'float', \n",
    "                              'Mid-Career Median Salary': 'float',\n",
    "                              'Mid-Career 10th Percentile Salary': 'float',\n",
    "                              'Mid-Career 25th Percentile Salary': 'float',\n",
    "                              'Mid-Career 75th Percentile Salary': 'float',\n",
    "                              'Mid-Career 90th Percentile Salary': 'float'})\n",
    "\n",
    "dupType = dupType.replace({'\\$':''}, regex = True).replace({'\\,':''}, regex = True)\n",
    "dupType = dupType.astype({'Starting Median Salary': 'float', \n",
    "                              'Mid-Career Median Salary': 'float',\n",
    "                              'Mid-Career 10th Percentile Salary': 'float',\n",
    "                              'Mid-Career 25th Percentile Salary': 'float',\n",
    "                              'Mid-Career 75th Percentile Salary': 'float',\n",
    "                              'Mid-Career 90th Percentile Salary': 'float'})\n",
    "\n",
    "\n",
    "payDegree = payDegree.replace({'\\$':''}, regex = True).replace({'\\,':''}, regex = True)\n",
    "payDegree = payDegree.astype({'Starting Median Salary': 'float', \n",
    "                              'Mid-Career Median Salary': 'float',\n",
    "                              'Percent change from Starting to Mid-Career Salary': 'float',\n",
    "                              'Mid-Career 10th Percentile Salary': 'float',\n",
    "                              'Mid-Career 25th Percentile Salary': 'float',\n",
    "                              'Mid-Career 75th Percentile Salary': 'float',\n",
    "                              'Mid-Career 90th Percentile Salary': 'float'})\n",
    "salCollege.head()"
   ]
  },
  {
   "cell_type": "markdown",
   "metadata": {},
   "source": [
    "Now that we've cleaned the data, let's analyze it."
   ]
  },
  {
   "cell_type": "markdown",
   "metadata": {},
   "source": [
    "## Analysis"
   ]
  },
  {
   "cell_type": "markdown",
   "metadata": {},
   "source": [
    "### Starting Median Salary"
   ]
  },
  {
   "cell_type": "code",
   "execution_count": 455,
   "metadata": {
    "scrolled": false
   },
   "outputs": [
    {
     "data": {
      "image/png": "[encoded data removed]",
      "text/plain": [
       "<Figure size 360x360 with 1 Axes>"
      ]
     },
     "metadata": {
      "needs_background": "light"
     },
     "output_type": "display_data"
    }
   ],
   "source": [
    "#starting salary of all school types.\n",
    "temp = salCollege[[\"School Type\", \"Starting Median Salary\"]]\n",
    "xtick = temp.groupby(\"School Type\").mean().round(2) \n",
    "#engineering\n",
    "eng = temp.loc[temp['School Type'] == \"Engineering\"]\n",
    "eng_y = eng['Starting Median Salary'].tolist()\n",
    "#ivy league\n",
    "ivy = temp.loc[temp['School Type'] == \"Ivy League\"]\n",
    "ivy_y = ivy['Starting Median Salary'].tolist()\n",
    "#liberal arts\n",
    "lib = temp.loc[temp['School Type'] == \"Liberal Arts\"]\n",
    "lib_y = lib['Starting Median Salary'].tolist()\n",
    "#party\n",
    "party = temp.loc[temp['School Type'] == \"Party\"]\n",
    "par_y = party['Starting Median Salary'].tolist()\n",
    "#state\n",
    "state = temp.loc[temp['School Type'] == \"State\"]\n",
    "sta_y = state['Starting Median Salary'].tolist()\n",
    "\n",
    "boxdata = [eng_y, ivy_y, lib_y, par_y, sta_y]\n",
    "\n",
    "fig = plt.figure(figsize =(5, 5)) \n",
    "  \n",
    "# Creating axes instance \n",
    "ax = fig.add_axes([0, 0, 1, 1]) \n",
    "\n",
    "# x-axis labels\n",
    "ax.set_xticklabels(xtick.index)\n",
    "bp = ax.boxplot(boxdata, patch_artist = True) \n",
    "\n",
    "colors = ['#D6EAF8', '#85C1E9',  \n",
    "          '#3498DB', '#2874A6', '#1B4F72']\n",
    "for patch, color in zip(bp['boxes'], colors): \n",
    "    patch.set_facecolor(color) \n",
    "\n",
    "plt.title(\"Starting Median Salary per School Type\", color = 'black')\n",
    "plt.ylabel('Avg Starting Median Salary ($)', color = 'black')\n",
    "plt.xlabel(\"School Type\");"
   ]
  },
  {
   "cell_type": "markdown",
   "metadata": {},
   "source": [
    "From the graph above, we can see the starting median salary is highest for students coming from Ivy League schools. The graph also shows that coming from an Engineering school has the highest potential of earning more than 80,000 for a starting salary. The other types of colleges are very similar with their starting median salaries."
   ]
  },
  {
   "cell_type": "markdown",
   "metadata": {},
   "source": [
    "Now, let's look at the breakdown of salaries by region."
   ]
  },
  {
   "cell_type": "code",
   "execution_count": 456,
   "metadata": {},
   "outputs": [
    {
     "data": {
      "image/png": "[encoded data removed]",
      "text/plain": [
       "<Figure size 360x360 with 1 Axes>"
      ]
     },
     "metadata": {
      "needs_background": "light"
     },
     "output_type": "display_data"
    }
   ],
   "source": [
    "#starting salary of all school types.\n",
    "region = salRegion[[\"Region\", \"Starting Median Salary\"]]\n",
    "xtick = region.groupby(\"Region\").mean().round(2) \n",
    "#engineering\n",
    "cal = region.loc[region['Region'] == \"California\"]\n",
    "cal_y = cal['Starting Median Salary'].tolist()\n",
    "#ivy league\n",
    "west = region.loc[region['Region'] == \"Western\"]\n",
    "west_y = west['Starting Median Salary'].tolist()\n",
    "#liberal arts\n",
    "south = region.loc[region['Region'] == \"Southern\"]\n",
    "south_y = south['Starting Median Salary'].tolist()\n",
    "#party\n",
    "north = region.loc[region['Region'] == \"Northeastern\"]\n",
    "north_y = north['Starting Median Salary'].tolist()\n",
    "#state\n",
    "mid = region.loc[region['Region'] == \"Midwestern\"]\n",
    "mid_y = mid['Starting Median Salary'].tolist()\n",
    "\n",
    "boxdata = [cal_y, west_y, south_y, north_y, mid_y]\n",
    "\n",
    "fig = plt.figure(figsize =(5, 5)) \n",
    "  \n",
    "# Creating axes instance \n",
    "ax = fig.add_axes([0, 0, 1, 1]) \n",
    "\n",
    "# x-axis labels\n",
    "ax.set_xticklabels(xtick.index)\n",
    "bp = ax.boxplot(boxdata, patch_artist = True) \n",
    "\n",
    "colors = ['#FADBD8', '#F1948A',  \n",
    "          '#E74C3C', '#B03A2E', '#78281F']\n",
    "for patch, color in zip(bp['boxes'], colors): \n",
    "    patch.set_facecolor(color) \n",
    "\n",
    "plt.title(\"Starting Median Salary per School Region\", color = 'black')\n",
    "plt.ylabel('Avg Starting Median Salary ($)')\n",
    "plt.xlabel(\"School Region\");"
   ]
  },
  {
   "cell_type": "markdown",
   "metadata": {},
   "source": [
    "The graph shows that students who graduate from any schools in California earn a higher starting salary than in any other region. Although, the Southern and Midwestern regions aren't far behind. Also, the graph shows that most students coming from Southern schools have the potential to earn the most starting salary, with exception to a few outliers coming from California schools."
   ]
  },
  {
   "cell_type": "code",
   "execution_count": 457,
   "metadata": {
    "scrolled": false
   },
   "outputs": [
    {
     "data": {
      "image/png": "[encoded data removed]",
      "text/plain": [
       "<Figure size 1152x576 with 1 Axes>"
      ]
     },
     "metadata": {
      "needs_background": "light"
     },
     "output_type": "display_data"
    }
   ],
   "source": [
    "deg = payDegree[[\"Undergraduate Major\", \"Starting Median Salary\"]].sort_values(by = ['Starting Median Salary'], ascending = False)\n",
    "deg = deg.head(10)\n",
    "#groupby([\"Undergraduate Major\"]).mean()\n",
    "#deg = deg.sort_values(by=['Starting Median Salary'], inplace=True, ascending=False)\n",
    "#print (deg.head())\n",
    "\n",
    "x = np.arange(10)\n",
    "\n",
    "deg.plot.bar(y = \"Starting Median Salary\", rot = 0, color = \"green\", figsize=(16,8), legend = None)\n",
    "plt.xticks(x, deg['Undergraduate Major'])\n",
    "plt.ylabel('Avg Starting Median Salary ($)')\n",
    "plt.xlabel('Undergraduate Major')\n",
    "plt.xticks(rotation = 90)\n",
    "plt.title(\"Top 10 Starting Median Salary by Major\");"
   ]
  },
  {
   "cell_type": "markdown",
   "metadata": {},
   "source": [
    "From the graph above, we can see that on average, a student pursuing a degree as a Physician Assistant will earn him/her the most money, which would be a starting median salary of above 80,000."
   ]
  },
  {
   "cell_type": "markdown",
   "metadata": {},
   "source": [
    "Now let's talk about the Mid-Career Median Salary."
   ]
  },
  {
   "cell_type": "markdown",
   "metadata": {},
   "source": [
    "### Mid-Career Median Salary"
   ]
  },
  {
   "cell_type": "code",
   "execution_count": 458,
   "metadata": {},
   "outputs": [
    {
     "data": {
      "text/html": [
       "<div>\n",
       "<style scoped>\n",
       "    .dataframe tbody tr th:only-of-type {\n",
       "        vertical-align: middle;\n",
       "    }\n",
       "\n",
       "    .dataframe tbody tr th {\n",
       "        vertical-align: top;\n",
       "    }\n",
       "\n",
       "    .dataframe thead th {\n",
       "        text-align: right;\n",
       "    }\n",
       "</style>\n",
       "<table border=\"1\" class=\"dataframe\">\n",
       "  <thead>\n",
       "    <tr style=\"text-align: right;\">\n",
       "      <th></th>\n",
       "      <th>Mid-Career 10th Percentile Salary</th>\n",
       "      <th>Mid-Career 25th Percentile Salary</th>\n",
       "      <th>Mid-Career Median Salary</th>\n",
       "      <th>Mid-Career 75th Percentile Salary</th>\n",
       "      <th>Mid-Career 90th Percentile Salary</th>\n",
       "    </tr>\n",
       "    <tr>\n",
       "      <th>School Type</th>\n",
       "      <th></th>\n",
       "      <th></th>\n",
       "      <th></th>\n",
       "      <th></th>\n",
       "      <th></th>\n",
       "    </tr>\n",
       "  </thead>\n",
       "  <tbody>\n",
       "    <tr>\n",
       "      <th>Engineering</th>\n",
       "      <td>61793.33</td>\n",
       "      <td>81384.21</td>\n",
       "      <td>103842.11</td>\n",
       "      <td>134868.42</td>\n",
       "      <td>173333.33</td>\n",
       "    </tr>\n",
       "    <tr>\n",
       "      <th>Ivy League</th>\n",
       "      <td>57900.00</td>\n",
       "      <td>82787.50</td>\n",
       "      <td>120125.00</td>\n",
       "      <td>184125.00</td>\n",
       "      <td>269625.00</td>\n",
       "    </tr>\n",
       "    <tr>\n",
       "      <th>Liberal Arts</th>\n",
       "      <td>47478.57</td>\n",
       "      <td>62106.52</td>\n",
       "      <td>89504.35</td>\n",
       "      <td>131252.17</td>\n",
       "      <td>191142.86</td>\n",
       "    </tr>\n",
       "    <tr>\n",
       "      <th>Party</th>\n",
       "      <td>44052.63</td>\n",
       "      <td>60005.00</td>\n",
       "      <td>84685.00</td>\n",
       "      <td>118100.00</td>\n",
       "      <td>166947.37</td>\n",
       "    </tr>\n",
       "    <tr>\n",
       "      <th>State</th>\n",
       "      <td>41622.44</td>\n",
       "      <td>56248.08</td>\n",
       "      <td>77815.38</td>\n",
       "      <td>105646.79</td>\n",
       "      <td>145211.54</td>\n",
       "    </tr>\n",
       "  </tbody>\n",
       "</table>\n",
       "</div>"
      ],
      "text/plain": [
       "              Mid-Career 10th Percentile Salary  \\\n",
       "School Type                                       \n",
       "Engineering                            61793.33   \n",
       "Ivy League                             57900.00   \n",
       "Liberal Arts                           47478.57   \n",
       "Party                                  44052.63   \n",
       "State                                  41622.44   \n",
       "\n",
       "              Mid-Career 25th Percentile Salary  Mid-Career Median Salary  \\\n",
       "School Type                                                                 \n",
       "Engineering                            81384.21                 103842.11   \n",
       "Ivy League                             82787.50                 120125.00   \n",
       "Liberal Arts                           62106.52                  89504.35   \n",
       "Party                                  60005.00                  84685.00   \n",
       "State                                  56248.08                  77815.38   \n",
       "\n",
       "              Mid-Career 75th Percentile Salary  \\\n",
       "School Type                                       \n",
       "Engineering                           134868.42   \n",
       "Ivy League                            184125.00   \n",
       "Liberal Arts                          131252.17   \n",
       "Party                                 118100.00   \n",
       "State                                 105646.79   \n",
       "\n",
       "              Mid-Career 90th Percentile Salary  \n",
       "School Type                                      \n",
       "Engineering                           173333.33  \n",
       "Ivy League                            269625.00  \n",
       "Liberal Arts                          191142.86  \n",
       "Party                                 166947.37  \n",
       "State                                 145211.54  "
      ]
     },
     "execution_count": 458,
     "metadata": {},
     "output_type": "execute_result"
    }
   ],
   "source": [
    "#Analysis of Mid-Career Salary based off of school type.\n",
    "midSchool = salCollege[[\"School Type\", \"Mid-Career 10th Percentile Salary\", \"Mid-Career 25th Percentile Salary\", \n",
    "                  \"Mid-Career Median Salary\", \"Mid-Career 75th Percentile Salary\", \"Mid-Career 90th Percentile Salary\"]]\n",
    "midSchool = midSchool.groupby(\"School Type\").mean().round(2) \n",
    "midSchool.head()"
   ]
  },
  {
   "cell_type": "code",
   "execution_count": 459,
   "metadata": {},
   "outputs": [
    {
     "data": {
      "image/png": "[encoded data removed]",
      "text/plain": [
       "<Figure size 360x360 with 1 Axes>"
      ]
     },
     "metadata": {
      "needs_background": "light"
     },
     "output_type": "display_data"
    }
   ],
   "source": [
    "eng = midSchool.iloc[0,].values\n",
    "ivy = midSchool.iloc[1,].values\n",
    "la = midSchool.iloc[2,].values\n",
    "par = midSchool.iloc[3,].values\n",
    "sta = midSchool.iloc[4,].values\n",
    "\n",
    "boxdata = [eng, ivy, la, par, sta] \n",
    "\n",
    "fig = plt.figure(figsize =(5, 5)) \n",
    "  \n",
    "# Creating axes instance \n",
    "ax = fig.add_axes([0, 0, 1, 1]) \n",
    "\n",
    "# x-axis labels \n",
    "ax.set_xticklabels(midSchool.index)\n",
    "\n",
    "# axis titles\n",
    "plt.title('Average Mid-Career Salary from Different School Types')\n",
    "plt.xlabel('School Type')\n",
    "plt.ylabel('Avg Mid-Career Salary ($)')\n",
    "  \n",
    "# Creating plot \n",
    "bp = ax.boxplot(boxdata, patch_artist = True) \n",
    "colors = ['#D6EAF8', '#85C1E9',  \n",
    "          '#3498DB', '#2874A6', '#1B4F72']\n",
    "for patch, color in zip(bp['boxes'], colors): \n",
    "    patch.set_facecolor(color) "
   ]
  },
  {
   "cell_type": "markdown",
   "metadata": {},
   "source": [
    "From the boxplot above, we see that Ivy League schools tend to earn the most money in the 90th percentile during their mid-career. Comparing this to the starting career salary, we see more of an overlap between the 25th percentile and 75th percentile."
   ]
  },
  {
   "cell_type": "code",
   "execution_count": 460,
   "metadata": {},
   "outputs": [
    {
     "data": {
      "text/html": [
       "<div>\n",
       "<style scoped>\n",
       "    .dataframe tbody tr th:only-of-type {\n",
       "        vertical-align: middle;\n",
       "    }\n",
       "\n",
       "    .dataframe tbody tr th {\n",
       "        vertical-align: top;\n",
       "    }\n",
       "\n",
       "    .dataframe thead th {\n",
       "        text-align: right;\n",
       "    }\n",
       "</style>\n",
       "<table border=\"1\" class=\"dataframe\">\n",
       "  <thead>\n",
       "    <tr style=\"text-align: right;\">\n",
       "      <th></th>\n",
       "      <th>Mid-Career 10th Percentile Salary</th>\n",
       "      <th>Mid-Career 25th Percentile Salary</th>\n",
       "      <th>Mid-Career Median Salary</th>\n",
       "      <th>Mid-Career 75th Percentile Salary</th>\n",
       "      <th>Mid-Career 90th Percentile Salary</th>\n",
       "    </tr>\n",
       "    <tr>\n",
       "      <th>Region</th>\n",
       "      <th></th>\n",
       "      <th></th>\n",
       "      <th></th>\n",
       "      <th></th>\n",
       "      <th></th>\n",
       "    </tr>\n",
       "  </thead>\n",
       "  <tbody>\n",
       "    <tr>\n",
       "      <th>California</th>\n",
       "      <td>47777.27</td>\n",
       "      <td>67153.57</td>\n",
       "      <td>90388.39</td>\n",
       "      <td>127350.00</td>\n",
       "      <td>167909.09</td>\n",
       "    </tr>\n",
       "    <tr>\n",
       "      <th>Midwestern</th>\n",
       "      <td>43076.56</td>\n",
       "      <td>57026.76</td>\n",
       "      <td>77182.58</td>\n",
       "      <td>107594.37</td>\n",
       "      <td>147689.06</td>\n",
       "    </tr>\n",
       "    <tr>\n",
       "      <th>Northeastern</th>\n",
       "      <td>49101.22</td>\n",
       "      <td>65479.00</td>\n",
       "      <td>88158.83</td>\n",
       "      <td>129576.00</td>\n",
       "      <td>181926.83</td>\n",
       "    </tr>\n",
       "    <tr>\n",
       "      <th>Southern</th>\n",
       "      <td>43074.65</td>\n",
       "      <td>57506.33</td>\n",
       "      <td>79069.49</td>\n",
       "      <td>109662.03</td>\n",
       "      <td>152769.01</td>\n",
       "    </tr>\n",
       "    <tr>\n",
       "      <th>Western</th>\n",
       "      <td>42985.29</td>\n",
       "      <td>56580.95</td>\n",
       "      <td>74572.55</td>\n",
       "      <td>106026.19</td>\n",
       "      <td>143823.53</td>\n",
       "    </tr>\n",
       "  </tbody>\n",
       "</table>\n",
       "</div>"
      ],
      "text/plain": [
       "              Mid-Career 10th Percentile Salary  \\\n",
       "Region                                            \n",
       "California                             47777.27   \n",
       "Midwestern                             43076.56   \n",
       "Northeastern                           49101.22   \n",
       "Southern                               43074.65   \n",
       "Western                                42985.29   \n",
       "\n",
       "              Mid-Career 25th Percentile Salary  Mid-Career Median Salary  \\\n",
       "Region                                                                      \n",
       "California                             67153.57                  90388.39   \n",
       "Midwestern                             57026.76                  77182.58   \n",
       "Northeastern                           65479.00                  88158.83   \n",
       "Southern                               57506.33                  79069.49   \n",
       "Western                                56580.95                  74572.55   \n",
       "\n",
       "              Mid-Career 75th Percentile Salary  \\\n",
       "Region                                            \n",
       "California                            127350.00   \n",
       "Midwestern                            107594.37   \n",
       "Northeastern                          129576.00   \n",
       "Southern                              109662.03   \n",
       "Western                               106026.19   \n",
       "\n",
       "              Mid-Career 90th Percentile Salary  \n",
       "Region                                           \n",
       "California                            167909.09  \n",
       "Midwestern                            147689.06  \n",
       "Northeastern                          181926.83  \n",
       "Southern                              152769.01  \n",
       "Western                               143823.53  "
      ]
     },
     "execution_count": 460,
     "metadata": {},
     "output_type": "execute_result"
    }
   ],
   "source": [
    "#Analysis of Mid-Career Salary based off of region.\n",
    "midReg = salRegion[[\"Region\", \"Mid-Career 10th Percentile Salary\", \"Mid-Career 25th Percentile Salary\", \n",
    "                  \"Mid-Career Median Salary\", \"Mid-Career 75th Percentile Salary\", \"Mid-Career 90th Percentile Salary\"]]\n",
    "midReg = midReg.groupby(\"Region\").mean().round(2)\n",
    "midReg"
   ]
  },
  {
   "cell_type": "code",
   "execution_count": 461,
   "metadata": {},
   "outputs": [
    {
     "data": {
      "image/png": "[encoded data removed]",
      "text/plain": [
       "<Figure size 360x360 with 1 Axes>"
      ]
     },
     "metadata": {
      "needs_background": "light"
     },
     "output_type": "display_data"
    }
   ],
   "source": [
    "cal = midReg.iloc[0,].values\n",
    "mid = midReg.iloc[1,].values\n",
    "north = midReg.iloc[2,].values\n",
    "south = midReg.iloc[3,].values\n",
    "west = midReg.iloc[4,].values\n",
    "\n",
    "box2 = [cal, mid, north, south, west]\n",
    "fig2 = plt.figure(figsize =(5, 5)) \n",
    "  \n",
    "# Creating axes instance \n",
    "ax2 = fig2.add_axes([0, 0, 1, 1]) \n",
    "\n",
    "# x-axis labels \n",
    "ax2.set_xticklabels(midReg.index)\n",
    "\n",
    "# axis titles\n",
    "plt.title('Average Mid-Career Salary from Different Regions')\n",
    "plt.xlabel('Region')\n",
    "plt.ylabel('Avg Mid-Career Salary ($)')\n",
    "\n",
    "bp2 = ax2.boxplot(box2, patch_artist = True) \n",
    "colors = ['#FADBD8', '#F1948A',  \n",
    "          '#E74C3C', '#B03A2E', '#78281F']\n",
    "for patch, color in zip(bp2['boxes'], colors): \n",
    "    patch.set_facecolor(color) "
   ]
  },
  {
   "cell_type": "markdown",
   "metadata": {},
   "source": [
    "From the boxplot above, we see that the range of mid-career salary from different regions between the 25th and 75th percentile has increased compared to that of the starting career salary. This means that more people have salaries closer to the median. The salaries were more scattered in the starting career salary by region."
   ]
  },
  {
   "cell_type": "code",
   "execution_count": 462,
   "metadata": {},
   "outputs": [
    {
     "data": {
      "image/png": "[encoded data removed]",
      "text/plain": [
       "<Figure size 1080x720 with 1 Axes>"
      ]
     },
     "metadata": {
      "needs_background": "light"
     },
     "output_type": "display_data"
    }
   ],
   "source": [
    "#Analysis of Mid-Career Salary based off of major.\n",
    "midMaj = payDegree[[\"Undergraduate Major\", \"Starting Median Salary\", \"Percent change from Starting to Mid-Career Salary\",\n",
    "                   \"Mid-Career 10th Percentile Salary\", \"Mid-Career 25th Percentile Salary\", \n",
    "                  \"Mid-Career Median Salary\", \"Mid-Career 75th Percentile Salary\", \"Mid-Career 90th Percentile Salary\"]]\n",
    "midMaj = midMaj.groupby(\"Undergraduate Major\").sum().sort_values(by = ['Mid-Career Median Salary'], ascending = False)\n",
    "midMaj = midMaj.head(10)\n",
    "\n",
    "p10 = midMaj['Mid-Career 10th Percentile Salary'].tolist()\n",
    "p25 = midMaj['Mid-Career 25th Percentile Salary'].tolist()\n",
    "pmed = midMaj['Mid-Career Median Salary'].tolist()\n",
    "p75 = midMaj['Mid-Career 75th Percentile Salary'].tolist()\n",
    "p90 = midMaj['Mid-Career 90th Percentile Salary'].tolist()\n",
    "\n",
    "width = 0.7\n",
    "x = np.arange(10)\n",
    "plt.figure(figsize =(15,10)) \n",
    "p1 = plt.bar(x, p90, width, color='#BB8FCE')\n",
    "p2 = plt.bar(x, p75, width, color='#D4AC0D')\n",
    "p3 = plt.bar(x, pmed, width, color='#2ECC71')\n",
    "p4 = plt.bar(x, p25, width, color='#d62728')\n",
    "p5 = plt.bar(x, p10, width, color='b')\n",
    "plt.xticks(x, midMaj.index)\n",
    "plt.xticks(rotation = 90)\n",
    "plt.legend([\"90%\", \"75%\", \"50%\", \"25%\", \"10%\"])\n",
    "plt.title(\"Top 10 Median Mid-Career Salary by Major\")\n",
    "plt.ylabel(\"Salary ($)\")\n",
    "plt.xlabel(\"Undegraduate Major\")\n",
    "plt.show()"
   ]
  },
  {
   "cell_type": "markdown",
   "metadata": {},
   "source": [
    "From the graph above, we see that the top ten salaries have now changed. Now, chemical engineering is the major with the highest mid-career median salary, while a PA major doesn't even fall in the top 10."
   ]
  },
  {
   "cell_type": "markdown",
   "metadata": {},
   "source": [
    "### Percent Change Analysis"
   ]
  },
  {
   "cell_type": "code",
   "execution_count": 463,
   "metadata": {},
   "outputs": [
    {
     "name": "stdout",
     "output_type": "stream",
     "text": [
      "\u001b[4mStarting Median Salary\u001b[0m\n",
      "         Undergraduate Major  Starting Median Salary\n",
      "         Physician Assistant                 80987.0\n",
      "      Electrical Engineering                 68208.0\n",
      "        Computer Engineering                 65084.0\n",
      "        Chemical Engineering                 63200.0\n",
      "                     Physics                 62875.0\n",
      "      Mechanical Engineering                 58479.0\n",
      "       Aerospace Engineering                 55969.0\n",
      "                     Finance                 55085.0\n",
      "           Civil Engineering                 53900.0\n",
      " Information Technology (IT)                 53519.0\n",
      "            Computer Science                 51987.0\n",
      "           Political Science                 50592.0\n",
      "      Industrial Engineering                 50199.0\n",
      "\n",
      "\u001b[4mMid-Career Median Salary\u001b[0m\n",
      "    Undergraduate Major  Mid-Career Median Salary\n",
      "   Chemical Engineering                  107000.0\n",
      "   Computer Engineering                  105000.0\n",
      " Electrical Engineering                  103000.0\n",
      "  Aerospace Engineering                  101000.0\n",
      "              Economics                   98600.0\n",
      "                Physics                   97300.0\n",
      "       Computer Science                   95500.0\n",
      " Industrial Engineering                   94700.0\n",
      " Mechanical Engineering                   93600.0\n",
      "                   Math                   92400.0\n",
      "    Physician Assistant                   91700.0\n",
      "      Civil Engineering                   90500.0\n",
      "           Construction                   88900.0\n"
     ]
    }
   ],
   "source": [
    "#analysis of start/mid-career median salary\n",
    "print (\"\\033[4mStarting Median Salary\\033[0m\")\n",
    "midMaj = payDegree[[\"Undergraduate Major\", \"Starting Median Salary\"]]\n",
    "ace = payDegree[[\"Undergraduate Major\", \"Mid-Career Median Salary\"]]\n",
    "hi = payDegree[[\"Undergraduate Major\", \"Percent change from Starting to Mid-Career Salary\"]]\n",
    "\n",
    "midMaj = midMaj.sort_values(by=['Starting Median Salary'], ascending = False)\n",
    "print (midMaj.head(13).to_string(index=False))\n",
    "print ()\n",
    "print (\"\\033[4mMid-Career Median Salary\\033[0m\")\n",
    "highMaj = ace.sort_values(by=['Mid-Career Median Salary'], ascending = False)\n",
    "print (highMaj.head(13).to_string(index = False))\n"
   ]
  },
  {
   "cell_type": "markdown",
   "metadata": {},
   "source": [
    "## Predictive Model"
   ]
  },
  {
   "cell_type": "markdown",
   "metadata": {},
   "source": [
    "### Starting Salary"
   ]
  },
  {
   "cell_type": "code",
   "execution_count": 476,
   "metadata": {},
   "outputs": [
    {
     "name": "stdout",
     "output_type": "stream",
     "text": [
      "Standard Deviation of region is  9488936.0\n",
      "Standard Deviation of school type is  84318003.85\n",
      "Standard Deviation of major is  133499585.03\n",
      "\n",
      "Weight of region is  0.04\n",
      "Weight of school type is  0.37\n",
      "Weight of major is  0.59\n"
     ]
    }
   ],
   "source": [
    "#calculate mean of all 5 regions\n",
    "region = salRegion[[\"Region\", \"Starting Median Salary\"]]\n",
    "region = region.groupby(\"Region\").mean().round(2).values\n",
    "california = region[0][0] \n",
    "midwestern = region[1][0]\n",
    "northeastern = region[2][0]\n",
    "southern = region[3][0]\n",
    "western = region[4][0]\n",
    "#calculate standard deviation of region\n",
    "std = (california, midwestern, northeastern, southern, western)\n",
    "#std = round(statistics.stdev(std), 2)\n",
    "std = round(statistics.variance(std), 2)\n",
    "\n",
    "print(\"Standard Deviation of region is \", std) \n",
    "\n",
    "#calculate mean of all 5 school types\n",
    "school = salCollege[[\"School Type\", \"Starting Median Salary\"]]\n",
    "school = school.groupby(\"School Type\").mean().round(2).values\n",
    "engineer = school[0][0]\n",
    "ivy = school[1][0]\n",
    "liberal = school[2][0]\n",
    "party = school[3][0]\n",
    "state = school[4][0]\n",
    "#calculate standard deviation of school type\n",
    "std2 = (engineer, ivy, liberal, party, state)\n",
    "#std2 = round(statistics.stdev(std2), 2)\n",
    "std2 = round(statistics.variance(std2), 2)\n",
    "print(\"Standard Deviation of school type is \", std2) \n",
    "\n",
    "#calculate mean of all majors\n",
    "major = payDegree[[\"Undergraduate Major\", \"Starting Median Salary\"]]\n",
    "major = major.groupby(\"Undergraduate Major\").mean().round(2)\n",
    "#calculate variance of majors\n",
    "std3 = major[\"Starting Median Salary\"].to_list()\n",
    "#std3 = round(statistics.stdev(std3), 2)\n",
    "std3 = round(statistics.variance(std3), 2)\n",
    "print(\"Standard Deviation of major is \", std3)\n",
    "\n",
    "#get starting weights\n",
    "total = std + std2 + std3\n",
    "weightRegion = round(std / total, 2)\n",
    "weightType = round(std2 / total, 2)\n",
    "weightMajor = round(std3 / total, 2)\n",
    "print ()\n",
    "print (\"Weight of region is \", weightRegion)\n",
    "print (\"Weight of school type is \", weightType)\n",
    "print (\"Weight of major is \", weightMajor)"
   ]
  },
  {
   "cell_type": "markdown",
   "metadata": {},
   "source": [
    "### Median Salary"
   ]
  },
  {
   "cell_type": "code",
   "execution_count": 465,
   "metadata": {},
   "outputs": [
    {
     "name": "stdout",
     "output_type": "stream",
     "text": [
      "Standard Deviation of region is  3080.41\n",
      "Standard Deviation of school type is  9182.48\n",
      "Standard Deviation of major is  16088.4\n",
      "\n",
      "Weight of region is  0.11\n",
      "Weight of school type is  0.32\n",
      "Weight of major is  0.57\n"
     ]
    }
   ],
   "source": [
    "#calculate mean of all 5 regions\n",
    "region2 = salRegion[[\"Region\", \"Mid-Career Median Salary\"]]\n",
    "region2 = region2.groupby(\"Region\").mean().round(2).values\n",
    "california2 = region2[0][0] \n",
    "midwestern2 = region2[1][0]\n",
    "northeastern2 = region2[2][0]\n",
    "southern2 = region2[3][0]\n",
    "western2 = region2[4][0]\n",
    "#calculate standard deviation of region\n",
    "std = (california, midwestern, northeastern, southern, western)\n",
    "std = round(statistics.stdev(std), 2)\n",
    "print(\"Standard Deviation of region is \", std) \n",
    "\n",
    "#calculate mean of all 5 school types\n",
    "school2 = salCollege[[\"School Type\", \"Mid-Career Median Salary\"]]\n",
    "school2 = school2.groupby(\"School Type\").mean().round(2).values\n",
    "engineer2 = school2[0][0]\n",
    "ivy2 = school2[1][0]\n",
    "liberal2 = school2[2][0]\n",
    "party2 = school2[3][0]\n",
    "state2 = school2[4][0]\n",
    "#calculate standard deviation of school type\n",
    "std2 = (engineer, ivy, liberal, party, state)\n",
    "std2 = round(statistics.stdev(std2), 2)\n",
    "print(\"Standard Deviation of school type is \", std2) \n",
    "\n",
    "#calculate mean of all majors\n",
    "major = payDegree[[\"Undergraduate Major\", \"Mid-Career Median Salary\"]]\n",
    "major = major.groupby(\"Undergraduate Major\").mean().round(2)\n",
    "#calculate variance of majors\n",
    "std3 = major[\"Mid-Career Median Salary\"].to_list()\n",
    "std3 = round(statistics.stdev(std3), 2)\n",
    "print(\"Standard Deviation of major is \", std3)\n",
    "\n",
    "#get starting weights\n",
    "total = std + std2 + std3\n",
    "weightRegion2 = round(std / total, 2)\n",
    "weightType2 = round(std2 / total, 2)\n",
    "weightMajor2 = round(std3 / total, 2)\n",
    "print ()\n",
    "print (\"Weight of region is \", weightRegion2)\n",
    "print (\"Weight of school type is \", weightType2)\n",
    "print (\"Weight of major is \", weightMajor2)"
   ]
  },
  {
   "cell_type": "markdown",
   "metadata": {},
   "source": [
    "## Validation of Predictive Model"
   ]
  },
  {
   "cell_type": "markdown",
   "metadata": {},
   "source": [
    "### Starting Career"
   ]
  },
  {
   "cell_type": "code",
   "execution_count": 474,
   "metadata": {},
   "outputs": [
    {
     "name": "stdout",
     "output_type": "stream",
     "text": [
      "0.1355\n"
     ]
    }
   ],
   "source": [
    "from statistics import mean\n",
    "salaryMajor = 51987\n",
    "\n",
    "reg = dupRegion[[\"School Name\", \"Region\", \"Starting Median Salary\"]]\n",
    "temp = dupType[[\"School Type\"]].values\n",
    "reg.insert(2, \"School Type\", temp, True) \n",
    "listColleges = reg[\"School Name\"].tolist()\n",
    "listRegion = reg[\"Region\"].tolist()\n",
    "listType = reg[\"School Type\"].tolist()\n",
    "actValue = reg[\"Starting Median Salary\"].tolist()\n",
    "\n",
    "predValues = []\n",
    "j = 0\n",
    "\n",
    "for i in listColleges:\n",
    "    region = listRegion[j]\n",
    "    if region == \"California\":\n",
    "        salaryRegion = california\n",
    "    elif region == \"Midwestern\":\n",
    "        salaryRegion = midwestern\n",
    "    elif region == \"Northeastern\":\n",
    "        salaryRegion = northeastern\n",
    "    elif region == \"Southern\":\n",
    "        salaryRegion = southern\n",
    "    elif region == \"Western\":\n",
    "        salaryRegion = western\n",
    "    \n",
    "    schoolType = listType[j]\n",
    "    if schoolType == \"Engineering\":\n",
    "        salaryType = eng\n",
    "    elif schoolType == \"Ivy League\":\n",
    "        salaryType = ivy\n",
    "    elif schoolType == \"Liberal Arts\":\n",
    "        salaryType = liberal\n",
    "    elif schoolType == \"Party\":\n",
    "        salaryType = party\n",
    "    elif schoolType == \"State\":\n",
    "        salaryType = state\n",
    "    \n",
    "    j = j + 1\n",
    "    totalSalary = (weightRegion*salaryRegion) + (weightType*salaryType) + (weightMajor*salaryMajor)\n",
    "    predValues.append(totalSalary)\n",
    "    \n",
    "error = np.absolute((np.array(actValue) - np.array(predValues))) / np.array(actValue)\n",
    "avgError = sum(error) / len(error)\n",
    "avgError = avgError.tolist()\n",
    "avgError = mean(avgError)\n",
    "print (round(avgError,4))"
   ]
  },
  {
   "cell_type": "markdown",
   "metadata": {},
   "source": [
    "### Mid-Career"
   ]
  },
  {
   "cell_type": "code",
   "execution_count": 467,
   "metadata": {},
   "outputs": [
    {
     "name": "stdout",
     "output_type": "stream",
     "text": [
      "0.1615\n"
     ]
    }
   ],
   "source": [
    "from statistics import mean\n",
    "#salary for computer science major\n",
    "salaryMajor = 95500\n",
    "\n",
    "reg = dupRegion[[\"School Name\", \"Region\", \"Mid-Career Median Salary\"]]\n",
    "temp = dupType[[\"School Type\"]].values\n",
    "reg.insert(2, \"School Type\", temp, True) \n",
    "listColleges = reg[\"School Name\"].tolist()\n",
    "listRegion = reg[\"Region\"].tolist()\n",
    "listType = reg[\"School Type\"].tolist()\n",
    "actValue = reg[\"Mid-Career Median Salary\"].tolist()\n",
    "\n",
    "predValues = []\n",
    "j = 0\n",
    "\n",
    "for i in listColleges:\n",
    "    region = listRegion[j]\n",
    "    if region == \"California\":\n",
    "        salaryRegion = california\n",
    "    elif region == \"Midwestern\":\n",
    "        salaryRegion = midwestern\n",
    "    elif region == \"Northeastern\":\n",
    "        salaryRegion = northeastern\n",
    "    elif region == \"Southern\":\n",
    "        salaryRegion = southern\n",
    "    elif region == \"Western\":\n",
    "        salaryRegion = western\n",
    "    \n",
    "    schoolType = listType[j]\n",
    "    if schoolType == \"Engineering\":\n",
    "        salaryType = eng\n",
    "    elif schoolType == \"Ivy League\":\n",
    "        salaryType = ivy\n",
    "    elif schoolType == \"Liberal Arts\":\n",
    "        salaryType = liberal\n",
    "    elif schoolType == \"Party\":\n",
    "        salaryType = party\n",
    "    elif schoolType == \"State\":\n",
    "        salaryType = state\n",
    "    \n",
    "    j = j + 1\n",
    "    #totalSalary = ((1/3)*salaryRegion) + ((1/3)*salaryType) + ((1/3)*salaryMajor)\n",
    "    totalSalary = (weightRegion2*salaryRegion) + (weightType2*salaryType) + (weightMajor2*salaryMajor)\n",
    "    predValues.append(totalSalary)\n",
    "    \n",
    "error = np.absolute((np.array(actValue) - np.array(predValues))) / np.array(actValue)\n",
    "avgError = sum(error) / len(error)\n",
    "avgError = avgError.tolist()\n",
    "avgError = mean(avgError)\n",
    "print (round(avgError,4))"
   ]
  },
  {
   "cell_type": "code",
   "execution_count": null,
   "metadata": {},
   "outputs": [],
   "source": []
  }
 ],
 "metadata": {
  "kernelspec": {
   "display_name": "Python 3",
   "language": "python",
   "name": "python3"
  },
  "language_info": {
   "codemirror_mode": {
    "name": "ipython",
    "version": 3
   },
   "file_extension": ".py",
   "mimetype": "text/x-python",
   "name": "python",
   "nbconvert_exporter": "python",
   "pygments_lexer": "ipython3",
   "version": "3.8.3"
  }
 },
 "nbformat": 4,
 "nbformat_minor": 4
}
